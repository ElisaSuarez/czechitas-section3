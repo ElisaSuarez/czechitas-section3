{
  "nbformat": 4,
  "nbformat_minor": 0,
  "metadata": {
    "colab": {
      "provenance": [],
      "authorship_tag": "ABX9TyMfdzs9ipHw7yaD8Hb+qSur",
      "include_colab_link": true
    },
    "kernelspec": {
      "name": "python3",
      "display_name": "Python 3"
    },
    "language_info": {
      "name": "python"
    },
    "accelerator": "TPU",
    "gpuClass": "standard"
  },
  "cells": [
    {
      "cell_type": "markdown",
      "metadata": {
        "id": "view-in-github",
        "colab_type": "text"
      },
      "source": [
        "<a href=\"https://colab.research.google.com/github/ElisaSuarez/czechitas-section3/blob/main/ConvolutionalNeuralNetworks.ipynb\" target=\"_parent\"><img src=\"https://colab.research.google.com/assets/colab-badge.svg\" alt=\"Open In Colab\"/></a>"
      ]
    },
    {
      "cell_type": "code",
      "source": [
        "import zipfile\n",
        "archive = zipfile.ZipFile('archive(1).zip')\n",
        "\n",
        "for file in archive.namelist():\n",
        "        archive.extract(file, '.')"
      ],
      "metadata": {
        "id": "6gCTK-8tQlgw"
      },
      "execution_count": null,
      "outputs": []
    },
    {
      "cell_type": "code",
      "execution_count": null,
      "metadata": {
        "id": "60Pr2hkFH8VH"
      },
      "outputs": [],
      "source": [
        "import numpy as np\n",
        "from scipy.io import loadmat\n",
        "\n",
        "import matplotlib.pyplot as plt\n",
        "\n",
        "mnist = loadmat('homNIST_test.mat')\n",
        "mnist['img_data'].astype(np.float32)\n",
        "list(mnist.keys())"
      ]
    },
    {
      "cell_type": "code",
      "source": [
        "mnist['img_data'].shape"
      ],
      "metadata": {
        "id": "Nj0mfJbuIMIR"
      },
      "execution_count": null,
      "outputs": []
    },
    {
      "cell_type": "code",
      "source": [
        "mnist['labels'].shape"
      ],
      "metadata": {
        "id": "jFJJzJ8tIMRQ"
      },
      "execution_count": null,
      "outputs": []
    },
    {
      "cell_type": "code",
      "source": [
        "mnist['hom_matrices'].shape"
      ],
      "metadata": {
        "id": "FFY-Q9rfIMYi"
      },
      "execution_count": null,
      "outputs": []
    },
    {
      "cell_type": "code",
      "source": [
        "plt.figure()\n",
        "plt.imshow(mnist['img_data'][0,:,:], cmap='gray')\n",
        "plt.show()"
      ],
      "metadata": {
        "id": "p8QU65WqIQCN"
      },
      "execution_count": null,
      "outputs": []
    },
    {
      "cell_type": "code",
      "source": [
        "first_digits = [np.argmax(mnist['labels']==i) for i in range(10)]\n",
        "first_digits"
      ],
      "metadata": {
        "id": "gK7uOz-nISft"
      },
      "execution_count": null,
      "outputs": []
    },
    {
      "cell_type": "code",
      "source": [
        "fig, axs = plt.subplots(2,5)\n",
        "\n",
        "for i,v in enumerate(first_digits):\n",
        "    if i<5:\n",
        "        axs[0][i].imshow(mnist['img_data'][v,:,:], cmap='gray')\n",
        "    else:\n",
        "        axs[1][i-5].imshow(mnist['img_data'][v,:,:], cmap='gray')\n",
        "\n",
        "plt.show()"
      ],
      "metadata": {
        "id": "4e1Alm98IU43"
      },
      "execution_count": null,
      "outputs": []
    },
    {
      "cell_type": "code",
      "source": [
        "examples_0 = np.argpartition(mnist['labels']==0, 10, axis=0)[-10:].squeeze()\n",
        "\n",
        "fig, axs = plt.subplots(2,5)\n",
        "\n",
        "for i,v in enumerate(examples_0):\n",
        "    if i<5:\n",
        "        axs[0][i].imshow(mnist['img_data'][v,:,:], cmap='gray')\n",
        "    else:\n",
        "        axs[1][i-5].imshow(mnist['img_data'][v,:,:], cmap='gray')\n",
        "\n",
        "plt.show()"
      ],
      "metadata": {
        "id": "z6QHzzwLIhQU"
      },
      "execution_count": null,
      "outputs": []
    },
    {
      "cell_type": "code",
      "source": [
        "examples_4 = np.argpartition(mnist['labels']==4, 10, axis=0)[-10:].squeeze()\n",
        "\n",
        "fig, axs = plt.subplots(2,5)\n",
        "\n",
        "for i,v in enumerate(examples_0):\n",
        "    if i<5:\n",
        "        axs[0][i].imshow(mnist['img_data'][v,:,:], cmap='gray')\n",
        "    else:\n",
        "        axs[1][i-5].imshow(mnist['img_data'][v,:,:], cmap='gray')\n",
        "\n",
        "plt.show()"
      ],
      "metadata": {
        "id": "fPJeaJDGIhgq"
      },
      "execution_count": null,
      "outputs": []
    },
    {
      "cell_type": "code",
      "source": [
        "examples,_ = np.nonzero(mnist['labels']==4)\n",
        "examples = np.random.choice(examples, 10)\n",
        "\n",
        "fig, axs = plt.subplots(2,5)\n",
        "\n",
        "for i,v in enumerate(examples):\n",
        "    if i<5:\n",
        "        axs[0][i].imshow(mnist['img_data'][v,:,:], cmap='gray')\n",
        "    else:\n",
        "        axs[1][i-5].imshow(mnist['img_data'][v,:,:], cmap='gray')\n",
        "\n",
        "plt.show()"
      ],
      "metadata": {
        "id": "_2FtvgegIhi2"
      },
      "execution_count": null,
      "outputs": []
    },
    {
      "cell_type": "code",
      "source": [
        "import cv2 as cv\n",
        "\n",
        "kernel = np.array([[-1,-2,-1],\n",
        "                   [0,0,0],\n",
        "                   [1,2,1]],np.float32)\n",
        "out1 = [cv.filter2D(mnist['img_data'][v,:,:],-1,kernel) for v in examples]\n",
        "for i,img in enumerate(out1):\n",
        "    temp = img\n",
        "    temp[temp<0] = 0\n",
        "    temp[temp>1] = 1\n",
        "    out1[i] = temp\n",
        "\n",
        "kernel2 = np.array([[-1,0,1],\n",
        "                   [-2,0,2],\n",
        "                   [-1,0,1]],np.float32)\n",
        "out2 = [cv.filter2D(mnist['img_data'][v,:,:],-1,kernel2) for v in examples]\n",
        "for i,img in enumerate(out2):\n",
        "    temp = img\n",
        "    temp[temp<0] = 0\n",
        "    temp[temp>1] = 1\n",
        "    out2[i] = temp\n",
        "\n",
        "    \n",
        "kernel3 = np.array([[-2,-1,0],\n",
        "                   [-1,1,1],\n",
        "                   [-0,1,2]],np.float32)\n",
        "out3 = [cv.filter2D(mnist['img_data'][v,:,:],-1,kernel3) for v in examples]\n",
        "for i,img in enumerate(out3):\n",
        "    temp = img\n",
        "    temp[temp<0] = 0\n",
        "    temp[temp>1] = 1\n",
        "    out3[i] = temp\n",
        "\n",
        "\n",
        "out4 = [np.stack([o1,o2,o3], axis=2) for o1,o2,o3 in zip(out1, out2, out3)]\n",
        "    \n",
        "fig, axs = plt.subplots(4,10, figsize=(20,8), sharex=True, sharey=True)\n",
        "\n",
        "for i,v in enumerate(out1+out2+out3 + out4):\n",
        "    if i<10:\n",
        "        axs[0][i].imshow(v, cmap='gray')\n",
        "    elif i<20:\n",
        "        axs[1][i-10].imshow(v, cmap='gray')\n",
        "    elif i<30:\n",
        "        axs[2][i-20].imshow(v, cmap='gray')\n",
        "    else:\n",
        "        axs[3][i-30].imshow(v)\n",
        "\n",
        "plt.show()"
      ],
      "metadata": {
        "id": "pXTzTa9kIhlR"
      },
      "execution_count": null,
      "outputs": []
    },
    {
      "cell_type": "code",
      "source": [
        "import tensorflow as tf\n",
        "from tensorflow import keras\n",
        "from tensorflow.keras import layers\n",
        "\n",
        "model = keras.Sequential(\n",
        "    [\n",
        "        keras.Input(shape=(40,40,1)),\n",
        "        layers.Conv2D(\n",
        "            filters=5,\n",
        "            kernel_size=3,\n",
        "            activation=\"relu\"),\n",
        "        layers.Conv2D(\n",
        "            filters=10,\n",
        "            kernel_size=3,\n",
        "            activation=\"relu\"),\n",
        "        layers.MaxPooling2D(3),\n",
        "        layers.Conv2D(\n",
        "            filters=20,\n",
        "            kernel_size=3,\n",
        "            activation=\"relu\"),\n",
        "        layers.GlobalMaxPooling2D(),\n",
        "        layers.Dense(10,activation=\"softmax\"),\n",
        "        \n",
        "    ]\n",
        ")\n",
        "\n",
        "print('------------------------------MODEL TO TRAIN----------------------------------')\n",
        "print(model.summary())\n"
      ],
      "metadata": {
        "id": "vuIlOFJkIhny"
      },
      "execution_count": null,
      "outputs": []
    },
    {
      "cell_type": "code",
      "source": [
        "feature_extractor = keras.Model(\n",
        "    inputs=model.inputs,\n",
        "    outputs=[layer.output for layer in model.layers],\n",
        ")\n",
        "\n",
        "print('--------------------------MODEL TO SEE FEATURES-------------------------------')\n",
        "print(feature_extractor.summary())"
      ],
      "metadata": {
        "id": "F4PV9dwlIhqX"
      },
      "execution_count": null,
      "outputs": []
    },
    {
      "cell_type": "code",
      "source": [
        "from sklearn.model_selection import train_test_split\n",
        "x_train, x_test, y_train, y_test = train_test_split(mnist['img_data'],mnist['labels'])\n",
        "print('Train Set Size: ', x_train.shape[0])\n",
        "print('Test Set Size: ', x_test.shape[0])"
      ],
      "metadata": {
        "id": "98Gs5gTsI6HD"
      },
      "execution_count": null,
      "outputs": []
    },
    {
      "cell_type": "code",
      "source": [
        "model.compile(\n",
        "    optimizer=keras.optimizers.Adam(),\n",
        "    loss=keras.losses.CategoricalCrossentropy(),\n",
        "    metrics=[keras.metrics.CategoricalAccuracy()],\n",
        ")\n",
        "\n",
        "\n",
        "\n",
        "history = model.fit(\n",
        "    x_train,\n",
        "    tf.squeeze(tf.one_hot(y_train,10)),\n",
        "    batch_size=100,\n",
        "    epochs=3,\n",
        "    validation_data=(\n",
        "        x_test,\n",
        "        tf.squeeze(tf.one_hot(y_test,10))\n",
        "    )\n",
        ")"
      ],
      "metadata": {
        "id": "g9L62r8sI-d8"
      },
      "execution_count": null,
      "outputs": []
    },
    {
      "cell_type": "code",
      "source": [],
      "metadata": {
        "id": "hOUD2D3CTqbw"
      },
      "execution_count": null,
      "outputs": []
    },
    {
      "cell_type": "code",
      "source": [
        "idx = 5\n",
        "features = feature_extractor(x_test[idx:idx+1,:,:])\n",
        "\n",
        "plt.figure()\n",
        "plt.imshow(tf.squeeze(x_test[idx:idx+1,:,:]), vmin=0, vmax=1)\n",
        "plt.show()"
      ],
      "metadata": {
        "id": "EjqOnnb8JKZh"
      },
      "execution_count": null,
      "outputs": []
    },
    {
      "cell_type": "code",
      "source": [
        "layer = 0\n",
        "n_maps = features[layer].shape[3]\n",
        "fig, axs = plt.subplots(1,n_maps, figsize=(15,5), sharex=True, sharey=True)\n",
        "\n",
        "for i in range(n_maps):\n",
        "    axs[i].imshow(features[layer][0,:,:,i], vmin=np.min(features[layer]),vmax=np.max(features[layer]))\n",
        "plt.show()"
      ],
      "metadata": {
        "id": "KdAMUKRmJAWR"
      },
      "execution_count": null,
      "outputs": []
    },
    {
      "cell_type": "code",
      "source": [
        "layer = 1\n",
        "n_maps = features[layer].shape[3]\n",
        "fig, axs = plt.subplots(1,n_maps, figsize=(15,5), sharex=True, sharey=True)\n",
        "\n",
        "for i in range(n_maps):\n",
        "    axs[i].imshow(features[layer][0,:,:,i], vmin=np.min(features[layer]),vmax=np.max(features[layer]))\n",
        "plt.show()"
      ],
      "metadata": {
        "id": "G_qblvHHJWj6"
      },
      "execution_count": null,
      "outputs": []
    },
    {
      "cell_type": "code",
      "source": [
        "layer = 2\n",
        "n_maps = features[layer].shape[3]\n",
        "fig, axs = plt.subplots(1,n_maps, figsize=(15,5), sharex=True, sharey=True)\n",
        "\n",
        "for i in range(n_maps):\n",
        "    axs[i].imshow(features[layer][0,:,:,i], vmin=np.min(features[layer]),vmax=np.max(features[layer]))\n",
        "plt.show()"
      ],
      "metadata": {
        "id": "KTqghctBJXpN"
      },
      "execution_count": null,
      "outputs": []
    },
    {
      "cell_type": "code",
      "source": [
        "layer = 3\n",
        "n_maps = features[layer].shape[3]\n",
        "fig, axs = plt.subplots(1,n_maps, figsize=(15,5), sharex=True, sharey=True)\n",
        "\n",
        "for i in range(n_maps):\n",
        "    axs[i].imshow(features[layer][0,:,:,i], vmin=np.min(features[layer]),vmax=np.max(features[layer]))\n",
        "plt.show()"
      ],
      "metadata": {
        "id": "6HEttjc3Jb5X"
      },
      "execution_count": null,
      "outputs": []
    },
    {
      "cell_type": "code",
      "source": [
        "plt.figure(figsize=(15,5))\n",
        "plt.stem(tf.squeeze(features[4]))\n",
        "plt.show()"
      ],
      "metadata": {
        "id": "oFTNFQpZJeRK"
      },
      "execution_count": null,
      "outputs": []
    },
    {
      "cell_type": "code",
      "source": [
        "y_test[idx]"
      ],
      "metadata": {
        "id": "Zb8wVv0CcJAv"
      },
      "execution_count": null,
      "outputs": []
    },
    {
      "cell_type": "code",
      "source": [
        "plt.figure(figsize=(15,5))\n",
        "plt.stem(tf.squeeze(features[5]))\n",
        "plt.stem(y_test[idx], [-1], markerfmt='x')\n",
        "plt.show()"
      ],
      "metadata": {
        "id": "aq1fbMNEJgpk"
      },
      "execution_count": null,
      "outputs": []
    }
  ]
}